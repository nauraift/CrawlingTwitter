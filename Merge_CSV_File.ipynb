{
  "cells": [
    {
      "cell_type": "code",
      "execution_count": null,
      "metadata": {
        "id": "JeUn-tZbWLhJ"
      },
      "outputs": [],
      "source": [
        "import os\n",
        "import pandas as pd"
      ]
    },
    {
      "cell_type": "code",
      "execution_count": null,
      "metadata": {
        "id": "8Q_Ba2Y8ZSRz",
        "colab": {
          "base_uri": "https://localhost:8080/"
        },
        "outputId": "81b1ec6c-7c8b-44b2-e6cf-40cf72fc40ab"
      },
      "outputs": [
        {
          "output_type": "stream",
          "name": "stdout",
          "text": [
            "Mounted at /content/drive\n"
          ]
        }
      ],
      "source": [
        "from google.colab import drive\n",
        "\n",
        "drive.mount('/content/drive')"
      ]
    },
    {
      "cell_type": "code",
      "execution_count": null,
      "metadata": {
        "id": "Ksqdf0n3ci2s"
      },
      "outputs": [],
      "source": [
        "path = \"/content/drive/MyDrive/Skripsi/data_penelitian/data_penelitian/\"\n",
        "\n",
        "os.listdir(path)"
      ]
    },
    {
      "cell_type": "code",
      "execution_count": null,
      "metadata": {
        "id": "yatHym9-dcab"
      },
      "outputs": [],
      "source": [
        "# 2. creates list with files to merge based on name convention\n",
        "file_list = [path + f for f in os.listdir(path) if f.startswith('skincare_')]\n",
        "\n",
        "# 3. creates empty list to include the content of each file converted to pandas DF\n",
        "csv_list = []\n",
        " \n",
        "# 4. reads each (sorted) file in file_list, converts it to pandas DF and appends it to the csv_list\n",
        "for file in sorted(file_list):\n",
        "    csv_list.append(pd.read_csv(file).assign(File_Name = os.path.basename(file)))\n",
        "\n",
        "# 5. merges single pandas DFs into a single DF, index is refreshed \n",
        "csv_merged = pd.concat(csv_list, ignore_index=True)\n",
        "\n",
        "# 6. Single DF is saved to the path in CSV format, without index column\n",
        "csv_merged.to_csv(path + 'skincare_setengah.csv', index=False)"
      ]
    }
  ],
  "metadata": {
    "colab": {
      "provenance": [],
      "authorship_tag": "ABX9TyN/mV+vglPj3ux4HBxh0kp/"
    },
    "kernelspec": {
      "display_name": "Python 3",
      "name": "python3"
    },
    "language_info": {
      "name": "python"
    }
  },
  "nbformat": 4,
  "nbformat_minor": 0
}